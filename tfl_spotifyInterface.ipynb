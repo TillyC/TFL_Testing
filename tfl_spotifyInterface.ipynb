{
 "cells": [
  {
   "cell_type": "code",
   "execution_count": 1,
   "id": "f9bbf73f",
   "metadata": {},
   "outputs": [],
   "source": [
    "import spotipy\n",
    "import json\n",
    "import webbrowser"
   ]
  },
  {
   "cell_type": "code",
   "execution_count": 13,
   "id": "b77e6873",
   "metadata": {},
   "outputs": [],
   "source": [
    "import urllib.request\n",
    "import spotipy.util as util"
   ]
  },
  {
   "cell_type": "code",
   "execution_count": 14,
   "id": "1fb47d84",
   "metadata": {},
   "outputs": [],
   "source": [
    "# copy and paste the url into your browser to see what data you are getting back\n",
    "request = urllib.request.Request(\"https://api.tfl.gov.uk/line/mode/tube/status\")\n",
    "response = urllib.request.urlopen(request)"
   ]
  },
  {
   "cell_type": "code",
   "execution_count": 15,
   "id": "bac966ce",
   "metadata": {},
   "outputs": [],
   "source": [
    "tube_status = json.loads(response.read())"
   ]
  },
  {
   "cell_type": "code",
   "execution_count": 37,
   "id": "eca50299",
   "metadata": {},
   "outputs": [
    {
     "name": "stdout",
     "output_type": "stream",
     "text": [
      "Metropolitan\n"
     ]
    }
   ],
   "source": [
    "#print specific line\n",
    "#print(tube_status[6]['name'])\n",
    "met_name = tube_status[6]['name']\n",
    "print(met_name)"
   ]
  },
  {
   "cell_type": "code",
   "execution_count": 17,
   "id": "0167d041",
   "metadata": {},
   "outputs": [],
   "source": [
    "metropolitan = tube_status[6]['name']"
   ]
  },
  {
   "cell_type": "code",
   "execution_count": 44,
   "id": "e945cf33",
   "metadata": {},
   "outputs": [
    {
     "name": "stdout",
     "output_type": "stream",
     "text": [
      "Metropolitan Good Service\n"
     ]
    }
   ],
   "source": [
    "#met_description = tube_status[6]['lineStatuses'][0]['statusSeverityDescription']\n",
    "#print(met_description)\n",
    "#combine the tube line and service description\n",
    "met_description = tube_status[6]['lineStatuses'][0]['statusSeverityDescription']\n",
    "combo = (met_name + \" \" + met_description)\n",
    "print(combo)"
   ]
  },
  {
   "cell_type": "code",
   "execution_count": 45,
   "id": "a2e7d5e1",
   "metadata": {},
   "outputs": [],
   "source": [
    "# open file with keys and set the path to your credentials JSON file\n",
    "credentials = \"spotifyKeys.json\"\n",
    "with open(credentials, \"r\") as keys:\n",
    "    api_tokens = json.load(keys)"
   ]
  },
  {
   "cell_type": "code",
   "execution_count": 22,
   "id": "fa3225a2",
   "metadata": {},
   "outputs": [],
   "source": [
    "# read the keys and assign each to a variable\n",
    "# A redirect URI, or reply URL, is the location where the authorization server sends the user once the app has been \n",
    "# successfully authorized and granted an authorization code or access token.\n",
    "client_id = api_tokens[\"client_id\"]\n",
    "client_secret = api_tokens[\"client_secret\"]\n",
    "redirectURI = api_tokens[\"redirect\"]\n",
    "username = api_tokens[\"username\"]"
   ]
  },
  {
   "cell_type": "code",
   "execution_count": 23,
   "id": "0f23cbca",
   "metadata": {},
   "outputs": [
    {
     "name": "stdout",
     "output_type": "stream",
     "text": [
      "Enter the URL you were redirected to: https://www.google.com/?code=AQDjhjO0DYeHzBJYupGeevl-oLoMksCttwoadP9_SO_zB7tU6Y1LIFRQexY7PUZxASv4Bf5Pn-T09d21OZx0V0Wjz_1fafY1l60Fyq5B10W5Yb6shfFb7wKNXipdJg4XeN_uwuLC1cgoUeW67xjb7MSSAv-yeSwEjFjpe6Gq59PExOlasbefSfp_-2Hv_UIHtoNP-viQQQxBKSUUe7r9oFO-zW6iVeg0tEsm1pEKhHY9ZvVmvZkJtJKZ4rr_ryDZGgMCieeZCIBD7d2FCQ-wv-nnRRvSpwk\n"
     ]
    }
   ],
   "source": [
    "scope = 'user-read-private user-read-playback-state user-modify-playback-state playlist-modify-public'\n",
    "token = util.prompt_for_user_token(username, scope, client_id=client_id,\n",
    "                           client_secret=client_secret,\n",
    "                           redirect_uri=redirectURI)"
   ]
  },
  {
   "cell_type": "code",
   "execution_count": 24,
   "id": "ffd7dfa0",
   "metadata": {},
   "outputs": [],
   "source": [
    "# Create OAuth Object\n",
    "# oauth_object = spotipy.SpotifyOAuth(client_id, client_secret, redirectURI)\n",
    "# Create token\n",
    "# token_dict = oauth_object.get_cached_token()\n",
    "# token = token_dict['access_token']\n",
    "# print(token_dict)\n",
    "# Create Spotify Object\n",
    "sp = spotipy.Spotify(auth=token)"
   ]
  },
  {
   "cell_type": "code",
   "execution_count": 25,
   "id": "8abe6645",
   "metadata": {},
   "outputs": [
    {
     "name": "stdout",
     "output_type": "stream",
     "text": [
      "{'devices': [{'id': '71bf1b365dbeba9fb8302fcc047fb6c15177a313', 'is_active': True, 'is_private_session': False, 'is_restricted': False, 'name': \"Tilda's iPhone\", 'type': 'Smartphone', 'volume_percent': 100}]}\n"
     ]
    }
   ],
   "source": [
    "devices = sp.devices()\n",
    "print(devices)\n",
    "deviceID = devices['devices'][0]['id']"
   ]
  },
  {
   "cell_type": "code",
   "execution_count": 46,
   "id": "95d36f2a",
   "metadata": {},
   "outputs": [],
   "source": [
    "# learn about more query strings for spotify here: https://developer.spotify.com/documentation/web-api/reference/#/operations/search\n",
    "track_results = sp.search(q=combo, type='track', limit=50)"
   ]
  },
  {
   "cell_type": "code",
   "execution_count": 27,
   "id": "0f7cd11c",
   "metadata": {},
   "outputs": [],
   "source": [
    "tracks = track_results['tracks']['items']"
   ]
  },
  {
   "cell_type": "code",
   "execution_count": 47,
   "id": "491c57cd",
   "metadata": {},
   "outputs": [],
   "source": [
    "# URI = uniform resource identifier\n",
    "track_selection_list = []\n",
    "track_art = []\n",
    "\n",
    "for song in tracks:\n",
    "    track_selection_list.append(song['uri'])\n",
    "    track_art.append(song['album']['images'][0]['url'])"
   ]
  },
  {
   "cell_type": "code",
   "execution_count": 48,
   "id": "9c430e32",
   "metadata": {},
   "outputs": [
    {
     "name": "stdout",
     "output_type": "stream",
     "text": [
      "{'snapshot_id': 'MyxkYjI2YzNjMDA5Y2I4N2IwZmYwODE4NGNjZDk1Yjk2Njk0MzVjZDI5'}\n"
     ]
    }
   ],
   "source": [
    "my_playlist = sp.user_playlist_create(user=username, name=combo, public=True,\n",
    "                                      description=\"Songs for the weather\")\n",
    "results = sp.user_playlist_add_tracks(username, my_playlist['id'], track_selection_list)\n",
    "print(results)"
   ]
  },
  {
   "cell_type": "code",
   "execution_count": 49,
   "id": "2035ac06",
   "metadata": {},
   "outputs": [
    {
     "data": {
      "text/plain": [
       "True"
      ]
     },
     "execution_count": 49,
     "metadata": {},
     "output_type": "execute_result"
    }
   ],
   "source": [
    "# sp.start_playback(deviceID, None, track_selection_list)\n",
    "webbrowser.open(my_playlist['external_urls']['spotify'])"
   ]
  },
  {
   "cell_type": "code",
   "execution_count": null,
   "id": "3c75d990",
   "metadata": {},
   "outputs": [],
   "source": []
  }
 ],
 "metadata": {
  "kernelspec": {
   "display_name": "Python 3 (ipykernel)",
   "language": "python",
   "name": "python3"
  },
  "language_info": {
   "codemirror_mode": {
    "name": "ipython",
    "version": 3
   },
   "file_extension": ".py",
   "mimetype": "text/x-python",
   "name": "python",
   "nbconvert_exporter": "python",
   "pygments_lexer": "ipython3",
   "version": "3.11.0"
  }
 },
 "nbformat": 4,
 "nbformat_minor": 5
}
