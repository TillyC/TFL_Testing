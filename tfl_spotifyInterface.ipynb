{
 "cells": [
  {
   "cell_type": "code",
   "execution_count": 4,
   "id": "f9bbf73f",
   "metadata": {},
   "outputs": [],
   "source": [
    "import spotipy\n",
    "import json\n",
    "import webbrowser"
   ]
  },
  {
   "cell_type": "code",
   "execution_count": 5,
   "id": "b77e6873",
   "metadata": {},
   "outputs": [],
   "source": [
    "import urllib.request\n",
    "import spotipy.util as util"
   ]
  },
  {
   "cell_type": "code",
   "execution_count": 6,
   "id": "a2e7d5e1",
   "metadata": {},
   "outputs": [],
   "source": [
    "# open file with keys and set the path to your credentials JSON file\n",
    "credentials = \"spotifyKeys.json\"\n",
    "with open(credentials, \"r\") as keys:\n",
    "    api_tokens = json.load(keys)"
   ]
  },
  {
   "cell_type": "code",
   "execution_count": 7,
   "id": "fa3225a2",
   "metadata": {},
   "outputs": [],
   "source": [
    "# read the keys and assign each to a variable\n",
    "# A redirect URI, or reply URL, is the location where the authorization server sends the user once the app has been \n",
    "# successfully authorized and granted an authorization code or access token.\n",
    "client_id = api_tokens[\"client_id\"]\n",
    "client_secret = api_tokens[\"client_secret\"]\n",
    "redirectURI = api_tokens[\"redirect\"]\n",
    "username = api_tokens[\"username\"]\n",
    "tfl_key = api_tokens[\"tfl_key\"]\n",
    "tfl_key2 = api_tokens[\"tfl_key2\"]"
   ]
  },
  {
   "cell_type": "code",
   "execution_count": 8,
   "id": "1fb47d84",
   "metadata": {},
   "outputs": [],
   "source": [
    "# copy and paste the url into your browser to see what data you are getting back\n",
    "request = urllib.request.Request(\"https://api.tfl.gov.uk/line/mode/tube/status\")\n",
    "response = urllib.request.urlopen(request)"
   ]
  },
  {
   "cell_type": "code",
   "execution_count": 9,
   "id": "bac966ce",
   "metadata": {},
   "outputs": [],
   "source": [
    "tube_status = json.loads(response.read())"
   ]
  },
  {
   "cell_type": "code",
   "execution_count": 10,
   "id": "eca50299",
   "metadata": {},
   "outputs": [
    {
     "name": "stdout",
     "output_type": "stream",
     "text": [
      "Metropolitan\n"
     ]
    }
   ],
   "source": [
    "#print specific line\n",
    "#print(tube_status[6]['name'])\n",
    "met_name = tube_status[6]['name']\n",
    "print(met_name)"
   ]
  },
  {
   "cell_type": "code",
   "execution_count": 22,
   "id": "0167d041",
   "metadata": {},
   "outputs": [],
   "source": [
    "metropolitan = tube_status[6]['name']\n",
    "northern = tube_status[7]['name']"
   ]
  },
  {
   "cell_type": "code",
   "execution_count": 23,
   "id": "e945cf33",
   "metadata": {},
   "outputs": [
    {
     "name": "stdout",
     "output_type": "stream",
     "text": [
      "Metropolitan Good Service\n",
      "Northern Good Service\n"
     ]
    }
   ],
   "source": [
    "#met_description = tube_status[6]['lineStatuses'][0]['statusSeverityDescription']\n",
    "#print(met_description)\n",
    "#combine the tube line and service description\n",
    "met_description = tube_status[6]['lineStatuses'][0]['statusSeverityDescription']\n",
    "combo = (met_name + \" \" + met_description)\n",
    "print(combo)\n",
    "\n",
    "north_description = tube_status[7]['lineStatuses'][0]['statusSeverityDescription']\n",
    "north_combo = (northern + \" \" + north_description)\n",
    "print(north_combo)"
   ]
  },
  {
   "cell_type": "code",
   "execution_count": 13,
   "id": "0f23cbca",
   "metadata": {},
   "outputs": [],
   "source": [
    "scope = 'user-read-private user-read-playback-state user-modify-playback-state playlist-modify-public'\n",
    "token = util.prompt_for_user_token(username, scope, client_id=client_id,\n",
    "                           client_secret=client_secret,\n",
    "                           redirect_uri=redirectURI)"
   ]
  },
  {
   "cell_type": "code",
   "execution_count": 14,
   "id": "ffd7dfa0",
   "metadata": {},
   "outputs": [],
   "source": [
    "# Create OAuth Object\n",
    "# oauth_object = spotipy.SpotifyOAuth(client_id, client_secret, redirectURI)\n",
    "# Create token\n",
    "# token_dict = oauth_object.get_cached_token()\n",
    "# token = token_dict['access_token']\n",
    "# print(token_dict)\n",
    "# Create Spotify Object\n",
    "sp = spotipy.Spotify(auth=token)"
   ]
  },
  {
   "cell_type": "code",
   "execution_count": null,
   "id": "8abe6645",
   "metadata": {},
   "outputs": [],
   "source": []
  },
  {
   "cell_type": "code",
   "execution_count": 27,
   "id": "95d36f2a",
   "metadata": {},
   "outputs": [],
   "source": [
    "# learn about more query strings for spotify here: https://developer.spotify.com/documentation/web-api/reference/#/operations/search\n",
    "track_results = sp.search(q=north_combo, type='track', limit=50)"
   ]
  },
  {
   "cell_type": "code",
   "execution_count": 28,
   "id": "0f7cd11c",
   "metadata": {},
   "outputs": [],
   "source": [
    "tracks = track_results['tracks']['items']"
   ]
  },
  {
   "cell_type": "code",
   "execution_count": 29,
   "id": "491c57cd",
   "metadata": {},
   "outputs": [],
   "source": [
    "# URI = uniform resource identifier\n",
    "track_selection_list = []\n",
    "track_art = []\n",
    "\n",
    "for song in tracks:\n",
    "    track_selection_list.append(song['uri'])\n",
    "    track_art.append(song['album']['images'][0]['url'])"
   ]
  },
  {
   "cell_type": "code",
   "execution_count": 30,
   "id": "9c430e32",
   "metadata": {},
   "outputs": [
    {
     "name": "stdout",
     "output_type": "stream",
     "text": [
      "{'snapshot_id': 'Myw0MGVhMTE5ODFlNjQyMmIzZGU0NTJkNGZiYjRkOTE3MmM5OTI5ZTg5'}\n"
     ]
    }
   ],
   "source": [
    "my_playlist = sp.user_playlist_create(user=username, name=north_combo, public=True,\n",
    "                                      description=\"Songs for the tube journey\")\n",
    "results = sp.user_playlist_add_tracks(username, my_playlist['id'], track_selection_list)\n",
    "print(results)"
   ]
  },
  {
   "cell_type": "code",
   "execution_count": 31,
   "id": "2035ac06",
   "metadata": {},
   "outputs": [
    {
     "data": {
      "text/plain": [
       "True"
      ]
     },
     "execution_count": 31,
     "metadata": {},
     "output_type": "execute_result"
    }
   ],
   "source": [
    "# sp.start_playback(deviceID, None, track_selection_list)\n",
    "webbrowser.open(my_playlist['external_urls']['spotify'])"
   ]
  },
  {
   "cell_type": "code",
   "execution_count": null,
   "id": "3c75d990",
   "metadata": {},
   "outputs": [],
   "source": []
  },
  {
   "cell_type": "code",
   "execution_count": null,
   "id": "f8c94181",
   "metadata": {},
   "outputs": [],
   "source": []
  },
  {
   "cell_type": "code",
   "execution_count": null,
   "id": "a04ab0ea",
   "metadata": {},
   "outputs": [],
   "source": []
  },
  {
   "cell_type": "code",
   "execution_count": null,
   "id": "f788c74e",
   "metadata": {},
   "outputs": [],
   "source": []
  }
 ],
 "metadata": {
  "kernelspec": {
   "display_name": "Python 3 (ipykernel)",
   "language": "python",
   "name": "python3"
  },
  "language_info": {
   "codemirror_mode": {
    "name": "ipython",
    "version": 3
   },
   "file_extension": ".py",
   "mimetype": "text/x-python",
   "name": "python",
   "nbconvert_exporter": "python",
   "pygments_lexer": "ipython3",
   "version": "3.11.0"
  }
 },
 "nbformat": 4,
 "nbformat_minor": 5
}
