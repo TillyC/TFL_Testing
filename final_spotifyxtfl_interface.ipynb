{
 "cells": [
  {
   "cell_type": "code",
   "execution_count": 29,
   "id": "1c7cecfd",
   "metadata": {},
   "outputs": [],
   "source": [
    "#import all necessary libraries\n",
    "import spotipy\n",
    "import webbrowser\n",
    "import json\n",
    "import urllib.request\n",
    "import geocoder\n",
    "from nltk.corpus import stopwords\n",
    "import spotipy.util as util\n",
    "import random"
   ]
  },
  {
   "cell_type": "code",
   "execution_count": 30,
   "id": "00b9757e",
   "metadata": {},
   "outputs": [],
   "source": [
    "# open file with keys and set the path to your credentials JSON file\n",
    "credentials = \"spotifyKeys.json\"\n",
    "with open(credentials, \"r\") as keys:\n",
    "    api_tokens = json.load(keys)"
   ]
  },
  {
   "cell_type": "code",
   "execution_count": 31,
   "id": "4f14a202",
   "metadata": {},
   "outputs": [],
   "source": [
    "# read the keys and assign each to a variable\n",
    "# A redirect URI, or reply URL, is the location where the authorization server sends the user once the app has been \n",
    "# successfully authorized and granted an authorization code or access token.\n",
    "\n",
    "client_id = api_tokens[\"client_id\"]\n",
    "client_secret = api_tokens[\"client_secret\"]\n",
    "redirectURI = api_tokens[\"redirect\"]\n",
    "username = api_tokens[\"username\"]"
   ]
  },
  {
   "cell_type": "code",
   "execution_count": 32,
   "id": "cfee84ea",
   "metadata": {},
   "outputs": [],
   "source": [
    "# copy and paste the url into your browser to see what data you are getting back\n",
    "request = urllib.request.Request(\"https://api.tfl.gov.uk/line/mode/tube/status\")\n",
    "response = urllib.request.urlopen(request)"
   ]
  },
  {
   "cell_type": "code",
   "execution_count": 33,
   "id": "d2b48eca",
   "metadata": {},
   "outputs": [],
   "source": [
    "#read json file and assign the name tube_statuses\n",
    "tube_statuses = json.loads(response.read())"
   ]
  },
  {
   "cell_type": "code",
   "execution_count": 34,
   "id": "25d75139",
   "metadata": {},
   "outputs": [
    {
     "data": {
      "text/plain": [
       "[{'$type': 'Tfl.Api.Presentation.Entities.Line, Tfl.Api.Presentation.Entities',\n",
       "  'id': 'bakerloo',\n",
       "  'name': 'Bakerloo',\n",
       "  'modeName': 'tube',\n",
       "  'disruptions': [],\n",
       "  'created': '2022-11-22T19:39:35.48Z',\n",
       "  'modified': '2022-11-22T19:39:35.48Z',\n",
       "  'lineStatuses': [{'$type': 'Tfl.Api.Presentation.Entities.LineStatus, Tfl.Api.Presentation.Entities',\n",
       "    'id': 0,\n",
       "    'lineId': 'bakerloo',\n",
       "    'statusSeverity': 6,\n",
       "    'statusSeverityDescription': 'Severe Delays',\n",
       "    'reason': 'Bakerloo Line: Severe delays due to a signal failure at Oxford Circus. Tickets will be accepted on TfL bus services. ',\n",
       "    'created': '0001-01-01T00:00:00',\n",
       "    'validityPeriods': [{'$type': 'Tfl.Api.Presentation.Entities.ValidityPeriod, Tfl.Api.Presentation.Entities',\n",
       "      'fromDate': '2022-11-29T19:21:44Z',\n",
       "      'toDate': '2022-11-30T01:29:00Z',\n",
       "      'isNow': True}],\n",
       "    'disruption': {'$type': 'Tfl.Api.Presentation.Entities.Disruption, Tfl.Api.Presentation.Entities',\n",
       "     'category': 'RealTime',\n",
       "     'categoryDescription': 'RealTime',\n",
       "     'description': 'Bakerloo Line: Severe delays due to a signal failure at Oxford Circus. Tickets will be accepted on TfL bus services. ',\n",
       "     'affectedRoutes': [],\n",
       "     'affectedStops': [],\n",
       "     'closureText': 'severeDelays'}}],\n",
       "  'routeSections': [],\n",
       "  'serviceTypes': [{'$type': 'Tfl.Api.Presentation.Entities.LineServiceTypeInfo, Tfl.Api.Presentation.Entities',\n",
       "    'name': 'Regular',\n",
       "    'uri': '/Line/Route?ids=Bakerloo&serviceTypes=Regular'}],\n",
       "  'crowding': {'$type': 'Tfl.Api.Presentation.Entities.Crowding, Tfl.Api.Presentation.Entities'}},\n",
       " {'$type': 'Tfl.Api.Presentation.Entities.Line, Tfl.Api.Presentation.Entities',\n",
       "  'id': 'central',\n",
       "  'name': 'Central',\n",
       "  'modeName': 'tube',\n",
       "  'disruptions': [],\n",
       "  'created': '2022-11-22T19:39:35.48Z',\n",
       "  'modified': '2022-11-22T19:39:35.48Z',\n",
       "  'lineStatuses': [{'$type': 'Tfl.Api.Presentation.Entities.LineStatus, Tfl.Api.Presentation.Entities',\n",
       "    'id': 0,\n",
       "    'lineId': 'central',\n",
       "    'statusSeverity': 6,\n",
       "    'statusSeverityDescription': 'Severe Delays',\n",
       "    'reason': 'Central Line: Severe delays due to an earlier signal failure at Leytonstone. London Underground tickets accepted on Buses, London Overground, Elizabeth Line, Chiltern, Great Western Railway & Greater Anglia via reasonable route ',\n",
       "    'created': '0001-01-01T00:00:00',\n",
       "    'validityPeriods': [{'$type': 'Tfl.Api.Presentation.Entities.ValidityPeriod, Tfl.Api.Presentation.Entities',\n",
       "      'fromDate': '2022-11-29T15:47:09Z',\n",
       "      'toDate': '2022-11-30T01:29:00Z',\n",
       "      'isNow': True}],\n",
       "    'disruption': {'$type': 'Tfl.Api.Presentation.Entities.Disruption, Tfl.Api.Presentation.Entities',\n",
       "     'category': 'RealTime',\n",
       "     'categoryDescription': 'RealTime',\n",
       "     'description': 'Central Line: Severe delays due to an earlier signal failure at Leytonstone. London Underground tickets accepted on Buses, London Overground, Elizabeth Line, Chiltern, Great Western Railway & Greater Anglia via reasonable route ',\n",
       "     'affectedRoutes': [],\n",
       "     'affectedStops': [],\n",
       "     'closureText': 'severeDelays'}}],\n",
       "  'routeSections': [],\n",
       "  'serviceTypes': [{'$type': 'Tfl.Api.Presentation.Entities.LineServiceTypeInfo, Tfl.Api.Presentation.Entities',\n",
       "    'name': 'Regular',\n",
       "    'uri': '/Line/Route?ids=Central&serviceTypes=Regular'},\n",
       "   {'$type': 'Tfl.Api.Presentation.Entities.LineServiceTypeInfo, Tfl.Api.Presentation.Entities',\n",
       "    'name': 'Night',\n",
       "    'uri': '/Line/Route?ids=Central&serviceTypes=Night'}],\n",
       "  'crowding': {'$type': 'Tfl.Api.Presentation.Entities.Crowding, Tfl.Api.Presentation.Entities'}},\n",
       " {'$type': 'Tfl.Api.Presentation.Entities.Line, Tfl.Api.Presentation.Entities',\n",
       "  'id': 'circle',\n",
       "  'name': 'Circle',\n",
       "  'modeName': 'tube',\n",
       "  'disruptions': [],\n",
       "  'created': '2022-11-22T19:39:35.48Z',\n",
       "  'modified': '2022-11-22T19:39:35.48Z',\n",
       "  'lineStatuses': [{'$type': 'Tfl.Api.Presentation.Entities.LineStatus, Tfl.Api.Presentation.Entities',\n",
       "    'id': 0,\n",
       "    'statusSeverity': 10,\n",
       "    'statusSeverityDescription': 'Good Service',\n",
       "    'created': '0001-01-01T00:00:00',\n",
       "    'validityPeriods': []}],\n",
       "  'routeSections': [],\n",
       "  'serviceTypes': [{'$type': 'Tfl.Api.Presentation.Entities.LineServiceTypeInfo, Tfl.Api.Presentation.Entities',\n",
       "    'name': 'Regular',\n",
       "    'uri': '/Line/Route?ids=Circle&serviceTypes=Regular'}],\n",
       "  'crowding': {'$type': 'Tfl.Api.Presentation.Entities.Crowding, Tfl.Api.Presentation.Entities'}},\n",
       " {'$type': 'Tfl.Api.Presentation.Entities.Line, Tfl.Api.Presentation.Entities',\n",
       "  'id': 'district',\n",
       "  'name': 'District',\n",
       "  'modeName': 'tube',\n",
       "  'disruptions': [],\n",
       "  'created': '2022-11-22T19:39:35.48Z',\n",
       "  'modified': '2022-11-22T19:39:35.48Z',\n",
       "  'lineStatuses': [{'$type': 'Tfl.Api.Presentation.Entities.LineStatus, Tfl.Api.Presentation.Entities',\n",
       "    'id': 0,\n",
       "    'statusSeverity': 10,\n",
       "    'statusSeverityDescription': 'Good Service',\n",
       "    'created': '0001-01-01T00:00:00',\n",
       "    'validityPeriods': []}],\n",
       "  'routeSections': [],\n",
       "  'serviceTypes': [{'$type': 'Tfl.Api.Presentation.Entities.LineServiceTypeInfo, Tfl.Api.Presentation.Entities',\n",
       "    'name': 'Regular',\n",
       "    'uri': '/Line/Route?ids=District&serviceTypes=Regular'}],\n",
       "  'crowding': {'$type': 'Tfl.Api.Presentation.Entities.Crowding, Tfl.Api.Presentation.Entities'}},\n",
       " {'$type': 'Tfl.Api.Presentation.Entities.Line, Tfl.Api.Presentation.Entities',\n",
       "  'id': 'hammersmith-city',\n",
       "  'name': 'Hammersmith & City',\n",
       "  'modeName': 'tube',\n",
       "  'disruptions': [],\n",
       "  'created': '2022-11-22T19:39:35.463Z',\n",
       "  'modified': '2022-11-22T19:39:35.463Z',\n",
       "  'lineStatuses': [{'$type': 'Tfl.Api.Presentation.Entities.LineStatus, Tfl.Api.Presentation.Entities',\n",
       "    'id': 0,\n",
       "    'statusSeverity': 10,\n",
       "    'statusSeverityDescription': 'Good Service',\n",
       "    'created': '0001-01-01T00:00:00',\n",
       "    'validityPeriods': []}],\n",
       "  'routeSections': [],\n",
       "  'serviceTypes': [{'$type': 'Tfl.Api.Presentation.Entities.LineServiceTypeInfo, Tfl.Api.Presentation.Entities',\n",
       "    'name': 'Regular',\n",
       "    'uri': '/Line/Route?ids=Hammersmith & City&serviceTypes=Regular'}],\n",
       "  'crowding': {'$type': 'Tfl.Api.Presentation.Entities.Crowding, Tfl.Api.Presentation.Entities'}},\n",
       " {'$type': 'Tfl.Api.Presentation.Entities.Line, Tfl.Api.Presentation.Entities',\n",
       "  'id': 'jubilee',\n",
       "  'name': 'Jubilee',\n",
       "  'modeName': 'tube',\n",
       "  'disruptions': [],\n",
       "  'created': '2022-11-22T19:39:35.463Z',\n",
       "  'modified': '2022-11-22T19:39:35.463Z',\n",
       "  'lineStatuses': [{'$type': 'Tfl.Api.Presentation.Entities.LineStatus, Tfl.Api.Presentation.Entities',\n",
       "    'id': 0,\n",
       "    'statusSeverity': 10,\n",
       "    'statusSeverityDescription': 'Good Service',\n",
       "    'created': '0001-01-01T00:00:00',\n",
       "    'validityPeriods': []}],\n",
       "  'routeSections': [],\n",
       "  'serviceTypes': [{'$type': 'Tfl.Api.Presentation.Entities.LineServiceTypeInfo, Tfl.Api.Presentation.Entities',\n",
       "    'name': 'Regular',\n",
       "    'uri': '/Line/Route?ids=Jubilee&serviceTypes=Regular'},\n",
       "   {'$type': 'Tfl.Api.Presentation.Entities.LineServiceTypeInfo, Tfl.Api.Presentation.Entities',\n",
       "    'name': 'Night',\n",
       "    'uri': '/Line/Route?ids=Jubilee&serviceTypes=Night'}],\n",
       "  'crowding': {'$type': 'Tfl.Api.Presentation.Entities.Crowding, Tfl.Api.Presentation.Entities'}},\n",
       " {'$type': 'Tfl.Api.Presentation.Entities.Line, Tfl.Api.Presentation.Entities',\n",
       "  'id': 'metropolitan',\n",
       "  'name': 'Metropolitan',\n",
       "  'modeName': 'tube',\n",
       "  'disruptions': [],\n",
       "  'created': '2022-11-22T19:39:35.463Z',\n",
       "  'modified': '2022-11-22T19:39:35.463Z',\n",
       "  'lineStatuses': [{'$type': 'Tfl.Api.Presentation.Entities.LineStatus, Tfl.Api.Presentation.Entities',\n",
       "    'id': 0,\n",
       "    'statusSeverity': 10,\n",
       "    'statusSeverityDescription': 'Good Service',\n",
       "    'created': '0001-01-01T00:00:00',\n",
       "    'validityPeriods': []}],\n",
       "  'routeSections': [],\n",
       "  'serviceTypes': [{'$type': 'Tfl.Api.Presentation.Entities.LineServiceTypeInfo, Tfl.Api.Presentation.Entities',\n",
       "    'name': 'Regular',\n",
       "    'uri': '/Line/Route?ids=Metropolitan&serviceTypes=Regular'}],\n",
       "  'crowding': {'$type': 'Tfl.Api.Presentation.Entities.Crowding, Tfl.Api.Presentation.Entities'}},\n",
       " {'$type': 'Tfl.Api.Presentation.Entities.Line, Tfl.Api.Presentation.Entities',\n",
       "  'id': 'northern',\n",
       "  'name': 'Northern',\n",
       "  'modeName': 'tube',\n",
       "  'disruptions': [],\n",
       "  'created': '2022-11-22T19:39:35.48Z',\n",
       "  'modified': '2022-11-22T19:39:35.48Z',\n",
       "  'lineStatuses': [{'$type': 'Tfl.Api.Presentation.Entities.LineStatus, Tfl.Api.Presentation.Entities',\n",
       "    'id': 0,\n",
       "    'lineId': 'northern',\n",
       "    'statusSeverity': 3,\n",
       "    'statusSeverityDescription': 'Part Suspended',\n",
       "    'reason': 'Northern Line: No service between High Barnet and Camden Town while we respond to a fire alert at Kentish Town. GOOD SERVICE on the rest of the line. ',\n",
       "    'created': '0001-01-01T00:00:00',\n",
       "    'validityPeriods': [{'$type': 'Tfl.Api.Presentation.Entities.ValidityPeriod, Tfl.Api.Presentation.Entities',\n",
       "      'fromDate': '2022-11-29T20:17:34Z',\n",
       "      'toDate': '2022-11-29T23:39:23Z',\n",
       "      'isNow': True}],\n",
       "    'disruption': {'$type': 'Tfl.Api.Presentation.Entities.Disruption, Tfl.Api.Presentation.Entities',\n",
       "     'category': 'RealTime',\n",
       "     'categoryDescription': 'RealTime',\n",
       "     'description': 'Northern Line: No service between High Barnet and Camden Town while we respond to a fire alert at Kentish Town. GOOD SERVICE on the rest of the line. ',\n",
       "     'affectedRoutes': [],\n",
       "     'affectedStops': [],\n",
       "     'closureText': 'partSuspended'}}],\n",
       "  'routeSections': [],\n",
       "  'serviceTypes': [{'$type': 'Tfl.Api.Presentation.Entities.LineServiceTypeInfo, Tfl.Api.Presentation.Entities',\n",
       "    'name': 'Regular',\n",
       "    'uri': '/Line/Route?ids=Northern&serviceTypes=Regular'},\n",
       "   {'$type': 'Tfl.Api.Presentation.Entities.LineServiceTypeInfo, Tfl.Api.Presentation.Entities',\n",
       "    'name': 'Night',\n",
       "    'uri': '/Line/Route?ids=Northern&serviceTypes=Night'}],\n",
       "  'crowding': {'$type': 'Tfl.Api.Presentation.Entities.Crowding, Tfl.Api.Presentation.Entities'}},\n",
       " {'$type': 'Tfl.Api.Presentation.Entities.Line, Tfl.Api.Presentation.Entities',\n",
       "  'id': 'piccadilly',\n",
       "  'name': 'Piccadilly',\n",
       "  'modeName': 'tube',\n",
       "  'disruptions': [],\n",
       "  'created': '2022-11-22T19:39:35.463Z',\n",
       "  'modified': '2022-11-22T19:39:35.463Z',\n",
       "  'lineStatuses': [{'$type': 'Tfl.Api.Presentation.Entities.LineStatus, Tfl.Api.Presentation.Entities',\n",
       "    'id': 0,\n",
       "    'statusSeverity': 10,\n",
       "    'statusSeverityDescription': 'Good Service',\n",
       "    'created': '0001-01-01T00:00:00',\n",
       "    'validityPeriods': []}],\n",
       "  'routeSections': [],\n",
       "  'serviceTypes': [{'$type': 'Tfl.Api.Presentation.Entities.LineServiceTypeInfo, Tfl.Api.Presentation.Entities',\n",
       "    'name': 'Regular',\n",
       "    'uri': '/Line/Route?ids=Piccadilly&serviceTypes=Regular'},\n",
       "   {'$type': 'Tfl.Api.Presentation.Entities.LineServiceTypeInfo, Tfl.Api.Presentation.Entities',\n",
       "    'name': 'Night',\n",
       "    'uri': '/Line/Route?ids=Piccadilly&serviceTypes=Night'}],\n",
       "  'crowding': {'$type': 'Tfl.Api.Presentation.Entities.Crowding, Tfl.Api.Presentation.Entities'}},\n",
       " {'$type': 'Tfl.Api.Presentation.Entities.Line, Tfl.Api.Presentation.Entities',\n",
       "  'id': 'victoria',\n",
       "  'name': 'Victoria',\n",
       "  'modeName': 'tube',\n",
       "  'disruptions': [],\n",
       "  'created': '2022-11-22T19:39:35.463Z',\n",
       "  'modified': '2022-11-22T19:39:35.463Z',\n",
       "  'lineStatuses': [{'$type': 'Tfl.Api.Presentation.Entities.LineStatus, Tfl.Api.Presentation.Entities',\n",
       "    'id': 0,\n",
       "    'statusSeverity': 10,\n",
       "    'statusSeverityDescription': 'Good Service',\n",
       "    'created': '0001-01-01T00:00:00',\n",
       "    'validityPeriods': []}],\n",
       "  'routeSections': [],\n",
       "  'serviceTypes': [{'$type': 'Tfl.Api.Presentation.Entities.LineServiceTypeInfo, Tfl.Api.Presentation.Entities',\n",
       "    'name': 'Regular',\n",
       "    'uri': '/Line/Route?ids=Victoria&serviceTypes=Regular'},\n",
       "   {'$type': 'Tfl.Api.Presentation.Entities.LineServiceTypeInfo, Tfl.Api.Presentation.Entities',\n",
       "    'name': 'Night',\n",
       "    'uri': '/Line/Route?ids=Victoria&serviceTypes=Night'}],\n",
       "  'crowding': {'$type': 'Tfl.Api.Presentation.Entities.Crowding, Tfl.Api.Presentation.Entities'}},\n",
       " {'$type': 'Tfl.Api.Presentation.Entities.Line, Tfl.Api.Presentation.Entities',\n",
       "  'id': 'waterloo-city',\n",
       "  'name': 'Waterloo & City',\n",
       "  'modeName': 'tube',\n",
       "  'disruptions': [],\n",
       "  'created': '2022-11-22T19:39:35.48Z',\n",
       "  'modified': '2022-11-22T19:39:35.48Z',\n",
       "  'lineStatuses': [{'$type': 'Tfl.Api.Presentation.Entities.LineStatus, Tfl.Api.Presentation.Entities',\n",
       "    'id': 0,\n",
       "    'statusSeverity': 10,\n",
       "    'statusSeverityDescription': 'Good Service',\n",
       "    'created': '0001-01-01T00:00:00',\n",
       "    'validityPeriods': []}],\n",
       "  'routeSections': [],\n",
       "  'serviceTypes': [{'$type': 'Tfl.Api.Presentation.Entities.LineServiceTypeInfo, Tfl.Api.Presentation.Entities',\n",
       "    'name': 'Regular',\n",
       "    'uri': '/Line/Route?ids=Waterloo & City&serviceTypes=Regular'}],\n",
       "  'crowding': {'$type': 'Tfl.Api.Presentation.Entities.Crowding, Tfl.Api.Presentation.Entities'}}]"
      ]
     },
     "execution_count": 34,
     "metadata": {},
     "output_type": "execute_result"
    }
   ],
   "source": [
    "#print out json file\n",
    "tube_statuses"
   ]
  },
  {
   "cell_type": "code",
   "execution_count": 51,
   "id": "d53810a0",
   "metadata": {},
   "outputs": [],
   "source": [
    "#make an empty list of my tube status for the bakerloo line at index 0\n",
    "status_severity = []\n",
    "for status in tube_statuses[0]['lineStatuses']:\n",
    "    status_severity.append(status['statusSeverityDescription'])"
   ]
  },
  {
   "cell_type": "code",
   "execution_count": 52,
   "id": "b129c434",
   "metadata": {},
   "outputs": [
    {
     "name": "stdout",
     "output_type": "stream",
     "text": [
      "['Severe Delays']\n"
     ]
    }
   ],
   "source": [
    "print(status_severity)"
   ]
  },
  {
   "cell_type": "code",
   "execution_count": 37,
   "id": "149aa231",
   "metadata": {},
   "outputs": [
    {
     "data": {
      "text/plain": [
       "'Severe Delays'"
      ]
     },
     "execution_count": 37,
     "metadata": {},
     "output_type": "execute_result"
    }
   ],
   "source": [
    "#alternate way to acheive this\n",
    "tube_statuses[0]['lineStatuses'][0]['statusSeverityDescription']"
   ]
  },
  {
   "cell_type": "code",
   "execution_count": 63,
   "id": "8b44943c",
   "metadata": {},
   "outputs": [
    {
     "data": {
      "text/plain": [
       "'Waterloo & City'"
      ]
     },
     "execution_count": 63,
     "metadata": {},
     "output_type": "execute_result"
    }
   ],
   "source": [
    "#assign value to name specific lines at index\n",
    "bakerloo_name = tube_statuses[0]['name']\n",
    "central_name = tube_statuses[1]['name']\n",
    "circle_name = tube_statuses[2]['name']\n",
    "district_name = tube_statuses[3]['name']\n",
    "HC_name = tube_statuses[4]['name']\n",
    "jubilee_name = tube_statuses[5]['name']\n",
    "met_name = tube_statuses[6]['name']\n",
    "northern_name = tube_statuses[7]['name']\n",
    "picadilly_name = tube_statuses[8]['name']\n",
    "victoria_name = tube_statuses[9]['name']\n",
    "WC_name = tube_statuses[10]['name']\n",
    "\n",
    "met_name\n",
    "WC_name\n"
   ]
  },
  {
   "cell_type": "code",
   "execution_count": 66,
   "id": "a734735b",
   "metadata": {},
   "outputs": [
    {
     "data": {
      "text/plain": [
       "['Good Service']"
      ]
     },
     "execution_count": 66,
     "metadata": {},
     "output_type": "execute_result"
    }
   ],
   "source": [
    "#get the status severity of each line , this definitely doesn't feel like the lazy way to do this.\n",
    "#statusSeverity at bakerloo line\n",
    "bakerloo_status_severity = []\n",
    "for status in tube_statuses[0]['lineStatuses']:\n",
    "    bakerloo_status_severity.append(status['statusSeverityDescription'])\n",
    "    \n",
    "#statusSeverity at bakerloo line\n",
    "bakerloo_status_severity = []\n",
    "for status in tube_statuses[0]['lineStatuses']:\n",
    "    bakerloo_status_severity.append(status['statusSeverityDescription'])\n",
    "    \n",
    "#statusSeverity at central line\n",
    "central_status_severity = []\n",
    "for status in tube_statuses[1]['lineStatuses']:\n",
    "    central_status_severity.append(status['statusSeverityDescription'])\n",
    "    \n",
    "#statusSeverity at circle line\n",
    "circle_status_severity = []\n",
    "for status in tube_statuses[2]['lineStatuses']:\n",
    "    circle_status_severity.append(status['statusSeverityDescription'])\n",
    "    \n",
    "#statusSeverity at district line\n",
    "district_status_severity = []\n",
    "for status in tube_statuses[3]['lineStatuses']:\n",
    "    district_status_severity.append(status['statusSeverityDescription'])\n",
    "    \n",
    "#statusSeverity at Hammersmith and city line\n",
    "HC_status_severity = []\n",
    "for status in tube_statuses[4]['lineStatuses']:\n",
    "    HC_status_severity.append(status['statusSeverityDescription'])\n",
    "    \n",
    "#statusSeverity at jubilee line\n",
    "jubilee_status_severity = []\n",
    "for status in tube_statuses[5]['lineStatuses']:\n",
    "    jubilee_status_severity.append(status['statusSeverityDescription'])\n",
    "    \n",
    "    \n",
    "#statusSeverity at metropolitan line\n",
    "met_status_severity = []\n",
    "for status in tube_statuses[6]['lineStatuses']:\n",
    "    met_status_severity.append(status['statusSeverityDescription'])\n",
    "    \n",
    "#statusSeverity at northern line\n",
    "northern_status_severity = []\n",
    "for status in tube_statuses[7]['lineStatuses']:\n",
    "    northern_status_severity.append(status['statusSeverityDescription'])\n",
    "    \n",
    "#statusSeverity at picadilly line\n",
    "picadilly_status_severity = []\n",
    "for status in tube_statuses[8]['lineStatuses']:\n",
    "    picadilly_status_severity.append(status['statusSeverityDescription'])\n",
    "    \n",
    "#statusSeverity at victoria line\n",
    "victoria_status_severity = []\n",
    "for status in tube_statuses[9]['lineStatuses']:\n",
    "    victoria_status_severity.append(status['statusSeverityDescription'])\n",
    "    \n",
    "#statusSeverity at waterloo & city line\n",
    "WC_status_severity = []\n",
    "for status in tube_statuses[10]['lineStatuses']:\n",
    "    WC_status_severity.append(status['statusSeverityDescription'])\n",
    "    \n",
    "#bakerloo_status_severity\n",
    "victoria_status_severity"
   ]
  },
  {
   "cell_type": "code",
   "execution_count": 40,
   "id": "a5f9e663",
   "metadata": {},
   "outputs": [],
   "source": [
    "# go to https://developer.spotify.com/documentation/general/guides/authorization/scopes/\n",
    "scope = 'user-read-private user-read-playback-state user-modify-playback-state playlist-modify-public user-library-read'\n",
    "token = util.prompt_for_user_token(username, scope, client_id=client_id,\n",
    "                           client_secret=client_secret,\n",
    "                           redirect_uri=redirectURI)"
   ]
  },
  {
   "cell_type": "code",
   "execution_count": 41,
   "id": "5e7b2a6d",
   "metadata": {},
   "outputs": [],
   "source": [
    "# Create Spotify Object\n",
    "sp = spotipy.Spotify(auth=token)"
   ]
  },
  {
   "cell_type": "code",
   "execution_count": 42,
   "id": "3112b75b",
   "metadata": {},
   "outputs": [],
   "source": [
    "#set a keyword to add to the query based on the service severity of the bakerloo line\n",
    "#would do the same for each line unless I can find an easier way. \n",
    "keyword = \"\"\n",
    "if bakerloo_status_severity == \"Good Service\":\n",
    "    keyword = \"fine\"\n",
    "elif bakerloo_status_severity == \"Minor Delays\":\n",
    "    keyword = \"rubbish\"\n",
    "else:#severe delays\n",
    "    keyword = \"hell\"\n",
    "    "
   ]
  },
  {
   "cell_type": "code",
   "execution_count": 43,
   "id": "e004c4de",
   "metadata": {},
   "outputs": [],
   "source": [
    "#track_results = sp.search(q=circle_name, type='track', limit=50)\n",
    "track_results = sp.search(q=keyword, type='track', limit=50)"
   ]
  },
  {
   "cell_type": "code",
   "execution_count": 44,
   "id": "8745d0fb",
   "metadata": {},
   "outputs": [
    {
     "data": {
      "text/plain": [
       "True"
      ]
     },
     "execution_count": 44,
     "metadata": {},
     "output_type": "execute_result"
    }
   ],
   "source": [
    "#play the first song created\n",
    "first_song = track_results['tracks']['items'][0]\n",
    "# Open the Song in Web Browser\n",
    "webbrowser.open(first_song['external_urls']['spotify'])"
   ]
  },
  {
   "cell_type": "code",
   "execution_count": 53,
   "id": "5e7c4ecb",
   "metadata": {},
   "outputs": [
    {
     "data": {
      "text/plain": [
       "'spotify:track:2zYzyRzz6pRmhPzyfMEC8s'"
      ]
     },
     "execution_count": 53,
     "metadata": {},
     "output_type": "execute_result"
    }
   ],
   "source": [
    "#uri lets you know a specific artist or track\n",
    "searchResults = sp.search(q=\"track:\" + \"hell\", type=\"track\", limit=1)\n",
    "searchResults['tracks']['items'][0]['uri']\n",
    "#uri lets you know a specific artist or track, can use to make a playlist.\n",
    "#this returns highway to hell"
   ]
  },
  {
   "cell_type": "code",
   "execution_count": 58,
   "id": "54a357e6",
   "metadata": {},
   "outputs": [],
   "source": [
    "#run the below code to make a playlist rather than open one song\n",
    "tracks = track_results['tracks']['items']"
   ]
  },
  {
   "cell_type": "code",
   "execution_count": 59,
   "id": "540aff28",
   "metadata": {},
   "outputs": [],
   "source": [
    "#URI = uniform resource identifier\n",
    "track_selection_list = []\n",
    "track_art = []\n",
    "\n",
    "for song in tracks:\n",
    "    track_selection_list.append(song['uri'])\n",
    "    track_art.append(song['album']['images'][0]['url'])"
   ]
  },
  {
   "cell_type": "code",
   "execution_count": 60,
   "id": "dfa6b998",
   "metadata": {},
   "outputs": [
    {
     "name": "stdout",
     "output_type": "stream",
     "text": [
      "{'snapshot_id': 'Myw2YzMzYmU0OWMxYzEzNjA4MzczOGM1ODA1YzlhODU5ZDBiMzRjODM1'}\n"
     ]
    }
   ],
   "source": [
    "my_playlist = sp.user_playlist_create(user=username, name=keyword, public=True,\n",
    "                                      description=\"Songs for the tube\")\n",
    "results = sp.user_playlist_add_tracks(username, my_playlist['id'], track_selection_list)\n",
    "print(results)"
   ]
  },
  {
   "cell_type": "code",
   "execution_count": 62,
   "id": "ef6b4715",
   "metadata": {},
   "outputs": [
    {
     "data": {
      "text/plain": [
       "True"
      ]
     },
     "execution_count": 62,
     "metadata": {},
     "output_type": "execute_result"
    }
   ],
   "source": [
    "#sp.start_playback(deviceID, None, track_selection_list)\n",
    "webbrowser.open(my_playlist['external_urls']['spotify'])"
   ]
  },
  {
   "cell_type": "code",
   "execution_count": null,
   "id": "7957d3d5",
   "metadata": {},
   "outputs": [],
   "source": []
  }
 ],
 "metadata": {
  "kernelspec": {
   "display_name": "Python 3 (ipykernel)",
   "language": "python",
   "name": "python3"
  },
  "language_info": {
   "codemirror_mode": {
    "name": "ipython",
    "version": 3
   },
   "file_extension": ".py",
   "mimetype": "text/x-python",
   "name": "python",
   "nbconvert_exporter": "python",
   "pygments_lexer": "ipython3",
   "version": "3.11.0"
  }
 },
 "nbformat": 4,
 "nbformat_minor": 5
}
