{
 "cells": [
  {
   "cell_type": "code",
   "execution_count": 1,
   "id": "04d34b83",
   "metadata": {},
   "outputs": [],
   "source": [
    "import urllib.request\n",
    "import json"
   ]
  },
  {
   "cell_type": "code",
   "execution_count": 43,
   "id": "134f32ba",
   "metadata": {},
   "outputs": [],
   "source": [
    "# copy and paste the url into your browser to see what data you are getting back\n",
    "request = urllib.request.Request(\"https://api.tfl.gov.uk/line/mode/tube/status\")\n",
    "response = urllib.request.urlopen(request)"
   ]
  },
  {
   "cell_type": "code",
   "execution_count": 44,
   "id": "be412150",
   "metadata": {},
   "outputs": [],
   "source": [
    "tube_status = json.loads(response.read())"
   ]
  },
  {
   "cell_type": "code",
   "execution_count": 51,
   "id": "4e1bd90b",
   "metadata": {},
   "outputs": [
    {
     "name": "stdout",
     "output_type": "stream",
     "text": [
      "[{'$type': 'Tfl.Api.Presentation.Entities.Line, Tfl.Api.Presentation.Entities', 'id': 'bakerloo', 'name': 'Bakerloo', 'modeName': 'tube', 'disruptions': [], 'created': '2022-11-22T19:39:35.48Z', 'modified': '2022-11-22T19:39:35.48Z', 'lineStatuses': [{'$type': 'Tfl.Api.Presentation.Entities.LineStatus, Tfl.Api.Presentation.Entities', 'id': 0, 'lineId': 'bakerloo', 'statusSeverity': 9, 'statusSeverityDescription': 'Minor Delays', 'reason': 'Bakerloo Line: No service between Stonebridge Park and Harrow & Wealdstone due to an earlier fire alert. London Buses are accepting tickets via any reasonable route. MINOR DELAYS on the rest of the line. ', 'created': '0001-01-01T00:00:00', 'validityPeriods': [{'$type': 'Tfl.Api.Presentation.Entities.ValidityPeriod, Tfl.Api.Presentation.Entities', 'fromDate': '2022-11-27T21:04:43Z', 'toDate': '2022-11-28T01:29:00Z', 'isNow': True}], 'disruption': {'$type': 'Tfl.Api.Presentation.Entities.Disruption, Tfl.Api.Presentation.Entities', 'category': 'RealTime', 'categoryDescription': 'RealTime', 'description': 'Bakerloo Line: No service between Stonebridge Park and Harrow & Wealdstone due to an earlier fire alert. London Buses are accepting tickets via any reasonable route. MINOR DELAYS on the rest of the line. ', 'affectedRoutes': [], 'affectedStops': [], 'closureText': 'minorDelays'}}, {'$type': 'Tfl.Api.Presentation.Entities.LineStatus, Tfl.Api.Presentation.Entities', 'id': 0, 'lineId': 'bakerloo', 'statusSeverity': 3, 'statusSeverityDescription': 'Part Suspended', 'reason': 'Bakerloo Line: No service between Stonebridge Park and Harrow & Wealdstone due to an earlier fire alert. London Buses are accepting tickets via any reasonable route. MINOR DELAYS on the rest of the line. ', 'created': '0001-01-01T00:00:00', 'validityPeriods': [{'$type': 'Tfl.Api.Presentation.Entities.ValidityPeriod, Tfl.Api.Presentation.Entities', 'fromDate': '2022-11-27T21:04:43Z', 'toDate': '2022-11-28T00:09:34Z', 'isNow': True}], 'disruption': {'$type': 'Tfl.Api.Presentation.Entities.Disruption, Tfl.Api.Presentation.Entities', 'category': 'RealTime', 'categoryDescription': 'RealTime', 'description': 'Bakerloo Line: No service between Stonebridge Park and Harrow & Wealdstone due to an earlier fire alert. London Buses are accepting tickets via any reasonable route. MINOR DELAYS on the rest of the line. ', 'affectedRoutes': [], 'affectedStops': [], 'closureText': 'partSuspended'}}], 'routeSections': [], 'serviceTypes': [{'$type': 'Tfl.Api.Presentation.Entities.LineServiceTypeInfo, Tfl.Api.Presentation.Entities', 'name': 'Regular', 'uri': '/Line/Route?ids=Bakerloo&serviceTypes=Regular'}], 'crowding': {'$type': 'Tfl.Api.Presentation.Entities.Crowding, Tfl.Api.Presentation.Entities'}}, {'$type': 'Tfl.Api.Presentation.Entities.Line, Tfl.Api.Presentation.Entities', 'id': 'central', 'name': 'Central', 'modeName': 'tube', 'disruptions': [], 'created': '2022-11-22T19:39:35.48Z', 'modified': '2022-11-22T19:39:35.48Z', 'lineStatuses': [{'$type': 'Tfl.Api.Presentation.Entities.LineStatus, Tfl.Api.Presentation.Entities', 'id': 0, 'statusSeverity': 10, 'statusSeverityDescription': 'Good Service', 'created': '0001-01-01T00:00:00', 'validityPeriods': []}], 'routeSections': [], 'serviceTypes': [{'$type': 'Tfl.Api.Presentation.Entities.LineServiceTypeInfo, Tfl.Api.Presentation.Entities', 'name': 'Regular', 'uri': '/Line/Route?ids=Central&serviceTypes=Regular'}, {'$type': 'Tfl.Api.Presentation.Entities.LineServiceTypeInfo, Tfl.Api.Presentation.Entities', 'name': 'Night', 'uri': '/Line/Route?ids=Central&serviceTypes=Night'}], 'crowding': {'$type': 'Tfl.Api.Presentation.Entities.Crowding, Tfl.Api.Presentation.Entities'}}, {'$type': 'Tfl.Api.Presentation.Entities.Line, Tfl.Api.Presentation.Entities', 'id': 'circle', 'name': 'Circle', 'modeName': 'tube', 'disruptions': [], 'created': '2022-11-22T19:39:35.48Z', 'modified': '2022-11-22T19:39:35.48Z', 'lineStatuses': [{'$type': 'Tfl.Api.Presentation.Entities.LineStatus, Tfl.Api.Presentation.Entities', 'id': 0, 'lineId': 'circle', 'statusSeverity': 9, 'statusSeverityDescription': 'Minor Delays', 'reason': 'Circle Line: Minor delays due to an earlier security alert at Aldgate. ', 'created': '0001-01-01T00:00:00', 'validityPeriods': [{'$type': 'Tfl.Api.Presentation.Entities.ValidityPeriod, Tfl.Api.Presentation.Entities', 'fromDate': '2022-11-27T20:02:28Z', 'toDate': '2022-11-28T01:29:00Z', 'isNow': True}], 'disruption': {'$type': 'Tfl.Api.Presentation.Entities.Disruption, Tfl.Api.Presentation.Entities', 'category': 'RealTime', 'categoryDescription': 'RealTime', 'description': 'Circle Line: Minor delays due to an earlier security alert at Aldgate. ', 'affectedRoutes': [], 'affectedStops': [], 'closureText': 'minorDelays'}}], 'routeSections': [], 'serviceTypes': [{'$type': 'Tfl.Api.Presentation.Entities.LineServiceTypeInfo, Tfl.Api.Presentation.Entities', 'name': 'Regular', 'uri': '/Line/Route?ids=Circle&serviceTypes=Regular'}], 'crowding': {'$type': 'Tfl.Api.Presentation.Entities.Crowding, Tfl.Api.Presentation.Entities'}}, {'$type': 'Tfl.Api.Presentation.Entities.Line, Tfl.Api.Presentation.Entities', 'id': 'district', 'name': 'District', 'modeName': 'tube', 'disruptions': [], 'created': '2022-11-22T19:39:35.48Z', 'modified': '2022-11-22T19:39:35.48Z', 'lineStatuses': [{'$type': 'Tfl.Api.Presentation.Entities.LineStatus, Tfl.Api.Presentation.Entities', 'id': 0, 'statusSeverity': 10, 'statusSeverityDescription': 'Good Service', 'created': '0001-01-01T00:00:00', 'validityPeriods': []}], 'routeSections': [], 'serviceTypes': [{'$type': 'Tfl.Api.Presentation.Entities.LineServiceTypeInfo, Tfl.Api.Presentation.Entities', 'name': 'Regular', 'uri': '/Line/Route?ids=District&serviceTypes=Regular'}], 'crowding': {'$type': 'Tfl.Api.Presentation.Entities.Crowding, Tfl.Api.Presentation.Entities'}}, {'$type': 'Tfl.Api.Presentation.Entities.Line, Tfl.Api.Presentation.Entities', 'id': 'hammersmith-city', 'name': 'Hammersmith & City', 'modeName': 'tube', 'disruptions': [], 'created': '2022-11-22T19:39:35.463Z', 'modified': '2022-11-22T19:39:35.463Z', 'lineStatuses': [{'$type': 'Tfl.Api.Presentation.Entities.LineStatus, Tfl.Api.Presentation.Entities', 'id': 0, 'statusSeverity': 10, 'statusSeverityDescription': 'Good Service', 'created': '0001-01-01T00:00:00', 'validityPeriods': []}], 'routeSections': [], 'serviceTypes': [{'$type': 'Tfl.Api.Presentation.Entities.LineServiceTypeInfo, Tfl.Api.Presentation.Entities', 'name': 'Regular', 'uri': '/Line/Route?ids=Hammersmith & City&serviceTypes=Regular'}], 'crowding': {'$type': 'Tfl.Api.Presentation.Entities.Crowding, Tfl.Api.Presentation.Entities'}}, {'$type': 'Tfl.Api.Presentation.Entities.Line, Tfl.Api.Presentation.Entities', 'id': 'jubilee', 'name': 'Jubilee', 'modeName': 'tube', 'disruptions': [], 'created': '2022-11-22T19:39:35.463Z', 'modified': '2022-11-22T19:39:35.463Z', 'lineStatuses': [{'$type': 'Tfl.Api.Presentation.Entities.LineStatus, Tfl.Api.Presentation.Entities', 'id': 0, 'statusSeverity': 10, 'statusSeverityDescription': 'Good Service', 'created': '0001-01-01T00:00:00', 'validityPeriods': []}], 'routeSections': [], 'serviceTypes': [{'$type': 'Tfl.Api.Presentation.Entities.LineServiceTypeInfo, Tfl.Api.Presentation.Entities', 'name': 'Regular', 'uri': '/Line/Route?ids=Jubilee&serviceTypes=Regular'}, {'$type': 'Tfl.Api.Presentation.Entities.LineServiceTypeInfo, Tfl.Api.Presentation.Entities', 'name': 'Night', 'uri': '/Line/Route?ids=Jubilee&serviceTypes=Night'}], 'crowding': {'$type': 'Tfl.Api.Presentation.Entities.Crowding, Tfl.Api.Presentation.Entities'}}, {'$type': 'Tfl.Api.Presentation.Entities.Line, Tfl.Api.Presentation.Entities', 'id': 'metropolitan', 'name': 'Metropolitan', 'modeName': 'tube', 'disruptions': [], 'created': '2022-11-22T19:39:35.463Z', 'modified': '2022-11-22T19:39:35.463Z', 'lineStatuses': [{'$type': 'Tfl.Api.Presentation.Entities.LineStatus, Tfl.Api.Presentation.Entities', 'id': 0, 'statusSeverity': 10, 'statusSeverityDescription': 'Good Service', 'created': '0001-01-01T00:00:00', 'validityPeriods': []}], 'routeSections': [], 'serviceTypes': [{'$type': 'Tfl.Api.Presentation.Entities.LineServiceTypeInfo, Tfl.Api.Presentation.Entities', 'name': 'Regular', 'uri': '/Line/Route?ids=Metropolitan&serviceTypes=Regular'}], 'crowding': {'$type': 'Tfl.Api.Presentation.Entities.Crowding, Tfl.Api.Presentation.Entities'}}, {'$type': 'Tfl.Api.Presentation.Entities.Line, Tfl.Api.Presentation.Entities', 'id': 'northern', 'name': 'Northern', 'modeName': 'tube', 'disruptions': [], 'created': '2022-11-22T19:39:35.48Z', 'modified': '2022-11-22T19:39:35.48Z', 'lineStatuses': [{'$type': 'Tfl.Api.Presentation.Entities.LineStatus, Tfl.Api.Presentation.Entities', 'id': 0, 'statusSeverity': 10, 'statusSeverityDescription': 'Good Service', 'created': '0001-01-01T00:00:00', 'validityPeriods': []}], 'routeSections': [], 'serviceTypes': [{'$type': 'Tfl.Api.Presentation.Entities.LineServiceTypeInfo, Tfl.Api.Presentation.Entities', 'name': 'Regular', 'uri': '/Line/Route?ids=Northern&serviceTypes=Regular'}, {'$type': 'Tfl.Api.Presentation.Entities.LineServiceTypeInfo, Tfl.Api.Presentation.Entities', 'name': 'Night', 'uri': '/Line/Route?ids=Northern&serviceTypes=Night'}], 'crowding': {'$type': 'Tfl.Api.Presentation.Entities.Crowding, Tfl.Api.Presentation.Entities'}}, {'$type': 'Tfl.Api.Presentation.Entities.Line, Tfl.Api.Presentation.Entities', 'id': 'piccadilly', 'name': 'Piccadilly', 'modeName': 'tube', 'disruptions': [], 'created': '2022-11-22T19:39:35.463Z', 'modified': '2022-11-22T19:39:35.463Z', 'lineStatuses': [{'$type': 'Tfl.Api.Presentation.Entities.LineStatus, Tfl.Api.Presentation.Entities', 'id': 0, 'statusSeverity': 10, 'statusSeverityDescription': 'Good Service', 'created': '0001-01-01T00:00:00', 'validityPeriods': []}], 'routeSections': [], 'serviceTypes': [{'$type': 'Tfl.Api.Presentation.Entities.LineServiceTypeInfo, Tfl.Api.Presentation.Entities', 'name': 'Regular', 'uri': '/Line/Route?ids=Piccadilly&serviceTypes=Regular'}, {'$type': 'Tfl.Api.Presentation.Entities.LineServiceTypeInfo, Tfl.Api.Presentation.Entities', 'name': 'Night', 'uri': '/Line/Route?ids=Piccadilly&serviceTypes=Night'}], 'crowding': {'$type': 'Tfl.Api.Presentation.Entities.Crowding, Tfl.Api.Presentation.Entities'}}, {'$type': 'Tfl.Api.Presentation.Entities.Line, Tfl.Api.Presentation.Entities', 'id': 'victoria', 'name': 'Victoria', 'modeName': 'tube', 'disruptions': [], 'created': '2022-11-22T19:39:35.463Z', 'modified': '2022-11-22T19:39:35.463Z', 'lineStatuses': [{'$type': 'Tfl.Api.Presentation.Entities.LineStatus, Tfl.Api.Presentation.Entities', 'id': 0, 'lineId': 'victoria', 'statusSeverity': 9, 'statusSeverityDescription': 'Minor Delays', 'reason': 'Victoria Line: Minor delays due to train cancellations. ', 'created': '0001-01-01T00:00:00', 'validityPeriods': [{'$type': 'Tfl.Api.Presentation.Entities.ValidityPeriod, Tfl.Api.Presentation.Entities', 'fromDate': '2022-11-27T16:34:51Z', 'toDate': '2022-11-28T01:29:00Z', 'isNow': True}], 'disruption': {'$type': 'Tfl.Api.Presentation.Entities.Disruption, Tfl.Api.Presentation.Entities', 'category': 'RealTime', 'categoryDescription': 'RealTime', 'description': 'Victoria Line: Minor delays due to train cancellations. ', 'affectedRoutes': [], 'affectedStops': [], 'closureText': 'minorDelays'}}], 'routeSections': [], 'serviceTypes': [{'$type': 'Tfl.Api.Presentation.Entities.LineServiceTypeInfo, Tfl.Api.Presentation.Entities', 'name': 'Regular', 'uri': '/Line/Route?ids=Victoria&serviceTypes=Regular'}, {'$type': 'Tfl.Api.Presentation.Entities.LineServiceTypeInfo, Tfl.Api.Presentation.Entities', 'name': 'Night', 'uri': '/Line/Route?ids=Victoria&serviceTypes=Night'}], 'crowding': {'$type': 'Tfl.Api.Presentation.Entities.Crowding, Tfl.Api.Presentation.Entities'}}, {'$type': 'Tfl.Api.Presentation.Entities.Line, Tfl.Api.Presentation.Entities', 'id': 'waterloo-city', 'name': 'Waterloo & City', 'modeName': 'tube', 'disruptions': [], 'created': '2022-11-22T19:39:35.48Z', 'modified': '2022-11-22T19:39:35.48Z', 'lineStatuses': [{'$type': 'Tfl.Api.Presentation.Entities.LineStatus, Tfl.Api.Presentation.Entities', 'id': 0, 'lineId': 'waterloo-city', 'statusSeverity': 4, 'statusSeverityDescription': 'Planned Closure', 'reason': 'Waterloo & City line: Service operates between 06:00 and 00:30, Monday - Friday. No service at weekends and on public and bank holidays.', 'created': '0001-01-01T00:00:00', 'validityPeriods': [{'$type': 'Tfl.Api.Presentation.Entities.ValidityPeriod, Tfl.Api.Presentation.Entities', 'fromDate': '2022-11-27T00:00:00Z', 'toDate': '2022-11-27T23:59:00Z', 'isNow': False}], 'disruption': {'$type': 'Tfl.Api.Presentation.Entities.Disruption, Tfl.Api.Presentation.Entities', 'category': 'PlannedWork', 'categoryDescription': 'PlannedWork', 'description': 'Waterloo & City line: Service operates between 06:00 and 00:30, Monday - Friday. No service at weekends and on public and bank holidays.', 'created': '2022-08-31T06:52:00Z', 'affectedRoutes': [], 'affectedStops': [], 'closureText': 'plannedClosure'}}], 'routeSections': [], 'serviceTypes': [{'$type': 'Tfl.Api.Presentation.Entities.LineServiceTypeInfo, Tfl.Api.Presentation.Entities', 'name': 'Regular', 'uri': '/Line/Route?ids=Waterloo & City&serviceTypes=Regular'}], 'crowding': {'$type': 'Tfl.Api.Presentation.Entities.Crowding, Tfl.Api.Presentation.Entities'}}]\n"
     ]
    }
   ],
   "source": [
    "#print the data\n",
    "print(tube_status)"
   ]
  },
  {
   "cell_type": "code",
   "execution_count": 18,
   "id": "23f24e02",
   "metadata": {},
   "outputs": [],
   "source": []
  },
  {
   "cell_type": "code",
   "execution_count": 46,
   "id": "4dfdadfc",
   "metadata": {},
   "outputs": [
    {
     "data": {
      "text/plain": [
       "str"
      ]
     },
     "execution_count": 46,
     "metadata": {},
     "output_type": "execute_result"
    }
   ],
   "source": [
    "type('id')"
   ]
  },
  {
   "cell_type": "code",
   "execution_count": 20,
   "id": "d393825d",
   "metadata": {},
   "outputs": [
    {
     "data": {
      "text/plain": [
       "str"
      ]
     },
     "execution_count": 20,
     "metadata": {},
     "output_type": "execute_result"
    }
   ],
   "source": [
    "type('statusSeverity')"
   ]
  },
  {
   "cell_type": "code",
   "execution_count": 27,
   "id": "4897ec65",
   "metadata": {},
   "outputs": [
    {
     "data": {
      "text/plain": [
       "list"
      ]
     },
     "execution_count": 27,
     "metadata": {},
     "output_type": "execute_result"
    }
   ],
   "source": [
    "#print(tube_status['id'])\n",
    "type(tube_status)"
   ]
  },
  {
   "cell_type": "code",
   "execution_count": 47,
   "id": "090ae7b3",
   "metadata": {},
   "outputs": [
    {
     "name": "stdout",
     "output_type": "stream",
     "text": [
      "{'$type': 'Tfl.Api.Presentation.Entities.Line, Tfl.Api.Presentation.Entities', 'id': 'bakerloo', 'name': 'Bakerloo', 'modeName': 'tube', 'disruptions': [], 'created': '2022-11-22T19:39:35.48Z', 'modified': '2022-11-22T19:39:35.48Z', 'lineStatuses': [{'$type': 'Tfl.Api.Presentation.Entities.LineStatus, Tfl.Api.Presentation.Entities', 'id': 0, 'lineId': 'bakerloo', 'statusSeverity': 9, 'statusSeverityDescription': 'Minor Delays', 'reason': 'Bakerloo Line: No service between Stonebridge Park and Harrow & Wealdstone due to an earlier fire alert. London Buses are accepting tickets via any reasonable route. MINOR DELAYS on the rest of the line. ', 'created': '0001-01-01T00:00:00', 'validityPeriods': [{'$type': 'Tfl.Api.Presentation.Entities.ValidityPeriod, Tfl.Api.Presentation.Entities', 'fromDate': '2022-11-27T21:04:43Z', 'toDate': '2022-11-28T01:29:00Z', 'isNow': True}], 'disruption': {'$type': 'Tfl.Api.Presentation.Entities.Disruption, Tfl.Api.Presentation.Entities', 'category': 'RealTime', 'categoryDescription': 'RealTime', 'description': 'Bakerloo Line: No service between Stonebridge Park and Harrow & Wealdstone due to an earlier fire alert. London Buses are accepting tickets via any reasonable route. MINOR DELAYS on the rest of the line. ', 'affectedRoutes': [], 'affectedStops': [], 'closureText': 'minorDelays'}}, {'$type': 'Tfl.Api.Presentation.Entities.LineStatus, Tfl.Api.Presentation.Entities', 'id': 0, 'lineId': 'bakerloo', 'statusSeverity': 3, 'statusSeverityDescription': 'Part Suspended', 'reason': 'Bakerloo Line: No service between Stonebridge Park and Harrow & Wealdstone due to an earlier fire alert. London Buses are accepting tickets via any reasonable route. MINOR DELAYS on the rest of the line. ', 'created': '0001-01-01T00:00:00', 'validityPeriods': [{'$type': 'Tfl.Api.Presentation.Entities.ValidityPeriod, Tfl.Api.Presentation.Entities', 'fromDate': '2022-11-27T21:04:43Z', 'toDate': '2022-11-28T00:09:34Z', 'isNow': True}], 'disruption': {'$type': 'Tfl.Api.Presentation.Entities.Disruption, Tfl.Api.Presentation.Entities', 'category': 'RealTime', 'categoryDescription': 'RealTime', 'description': 'Bakerloo Line: No service between Stonebridge Park and Harrow & Wealdstone due to an earlier fire alert. London Buses are accepting tickets via any reasonable route. MINOR DELAYS on the rest of the line. ', 'affectedRoutes': [], 'affectedStops': [], 'closureText': 'partSuspended'}}], 'routeSections': [], 'serviceTypes': [{'$type': 'Tfl.Api.Presentation.Entities.LineServiceTypeInfo, Tfl.Api.Presentation.Entities', 'name': 'Regular', 'uri': '/Line/Route?ids=Bakerloo&serviceTypes=Regular'}], 'crowding': {'$type': 'Tfl.Api.Presentation.Entities.Crowding, Tfl.Api.Presentation.Entities'}}\n"
     ]
    }
   ],
   "source": [
    "print(tube_status[0])"
   ]
  },
  {
   "cell_type": "code",
   "execution_count": 48,
   "id": "251dcc5b",
   "metadata": {},
   "outputs": [
    {
     "name": "stdout",
     "output_type": "stream",
     "text": [
      "Bakerloo\n"
     ]
    }
   ],
   "source": [
    "#print specific line\n",
    "print(tube_status[0]['name'])"
   ]
  },
  {
   "cell_type": "code",
   "execution_count": 49,
   "id": "c7aededb",
   "metadata": {},
   "outputs": [
    {
     "name": "stdout",
     "output_type": "stream",
     "text": [
      "[{'$type': 'Tfl.Api.Presentation.Entities.LineStatus, Tfl.Api.Presentation.Entities', 'id': 0, 'lineId': 'bakerloo', 'statusSeverity': 9, 'statusSeverityDescription': 'Minor Delays', 'reason': 'Bakerloo Line: No service between Stonebridge Park and Harrow & Wealdstone due to an earlier fire alert. London Buses are accepting tickets via any reasonable route. MINOR DELAYS on the rest of the line. ', 'created': '0001-01-01T00:00:00', 'validityPeriods': [{'$type': 'Tfl.Api.Presentation.Entities.ValidityPeriod, Tfl.Api.Presentation.Entities', 'fromDate': '2022-11-27T21:04:43Z', 'toDate': '2022-11-28T01:29:00Z', 'isNow': True}], 'disruption': {'$type': 'Tfl.Api.Presentation.Entities.Disruption, Tfl.Api.Presentation.Entities', 'category': 'RealTime', 'categoryDescription': 'RealTime', 'description': 'Bakerloo Line: No service between Stonebridge Park and Harrow & Wealdstone due to an earlier fire alert. London Buses are accepting tickets via any reasonable route. MINOR DELAYS on the rest of the line. ', 'affectedRoutes': [], 'affectedStops': [], 'closureText': 'minorDelays'}}, {'$type': 'Tfl.Api.Presentation.Entities.LineStatus, Tfl.Api.Presentation.Entities', 'id': 0, 'lineId': 'bakerloo', 'statusSeverity': 3, 'statusSeverityDescription': 'Part Suspended', 'reason': 'Bakerloo Line: No service between Stonebridge Park and Harrow & Wealdstone due to an earlier fire alert. London Buses are accepting tickets via any reasonable route. MINOR DELAYS on the rest of the line. ', 'created': '0001-01-01T00:00:00', 'validityPeriods': [{'$type': 'Tfl.Api.Presentation.Entities.ValidityPeriod, Tfl.Api.Presentation.Entities', 'fromDate': '2022-11-27T21:04:43Z', 'toDate': '2022-11-28T00:09:34Z', 'isNow': True}], 'disruption': {'$type': 'Tfl.Api.Presentation.Entities.Disruption, Tfl.Api.Presentation.Entities', 'category': 'RealTime', 'categoryDescription': 'RealTime', 'description': 'Bakerloo Line: No service between Stonebridge Park and Harrow & Wealdstone due to an earlier fire alert. London Buses are accepting tickets via any reasonable route. MINOR DELAYS on the rest of the line. ', 'affectedRoutes': [], 'affectedStops': [], 'closureText': 'partSuspended'}}]\n"
     ]
    }
   ],
   "source": [
    "print(tube_status[0]['lineStatuses'])"
   ]
  },
  {
   "cell_type": "code",
   "execution_count": 40,
   "id": "e9ac3131",
   "metadata": {},
   "outputs": [
    {
     "name": "stdout",
     "output_type": "stream",
     "text": [
      "{'$type': 'Tfl.Api.Presentation.Entities.LineStatus, Tfl.Api.Presentation.Entities', 'id': 0, 'lineId': 'bakerloo', 'statusSeverity': 9, 'statusSeverityDescription': 'Minor Delays', 'reason': 'Bakerloo Line: No service between Stonebridge Park and Harrow & Wealdstone due to an earlier fire alert. London Buses are accepting tickets via any reasonable route. MINOR DELAYS on the rest of the line. ', 'created': '0001-01-01T00:00:00', 'validityPeriods': [{'$type': 'Tfl.Api.Presentation.Entities.ValidityPeriod, Tfl.Api.Presentation.Entities', 'fromDate': '2022-11-27T17:46:35Z', 'toDate': '2022-11-28T01:29:00Z', 'isNow': True}], 'disruption': {'$type': 'Tfl.Api.Presentation.Entities.Disruption, Tfl.Api.Presentation.Entities', 'category': 'RealTime', 'categoryDescription': 'RealTime', 'description': 'Bakerloo Line: No service between Stonebridge Park and Harrow & Wealdstone due to an earlier fire alert. London Buses are accepting tickets via any reasonable route. MINOR DELAYS on the rest of the line. ', 'affectedRoutes': [], 'affectedStops': [], 'closureText': 'minorDelays'}}\n"
     ]
    }
   ],
   "source": [
    "print(tube_status[0]['lineStatuses'][0])"
   ]
  },
  {
   "cell_type": "code",
   "execution_count": 50,
   "id": "7e3e329e",
   "metadata": {},
   "outputs": [
    {
     "name": "stdout",
     "output_type": "stream",
     "text": [
      "Minor Delays\n"
     ]
    }
   ],
   "source": [
    "print(tube_status[0]['lineStatuses'][0]['statusSeverityDescription'])"
   ]
  },
  {
   "cell_type": "code",
   "execution_count": 42,
   "id": "530f081a",
   "metadata": {},
   "outputs": [],
   "source": [
    "#turns out there are a lot of layers to this data\n",
    "#so far I can tell that at the time I refreshed this, the Bakerloo line had minor delays. "
   ]
  },
  {
   "cell_type": "code",
   "execution_count": 52,
   "id": "79f41ee7",
   "metadata": {},
   "outputs": [
    {
     "name": "stdout",
     "output_type": "stream",
     "text": [
      "Minor Delays\n"
     ]
    }
   ],
   "source": [
    "bakerloo_description = tube_status[0]['lineStatuses'][0]['statusSeverityDescription']\n",
    "print(bakerloo_description)"
   ]
  },
  {
   "cell_type": "code",
   "execution_count": 53,
   "id": "7aa499b4",
   "metadata": {},
   "outputs": [],
   "source": []
  },
  {
   "cell_type": "code",
   "execution_count": 54,
   "id": "f0d0cdea",
   "metadata": {},
   "outputs": [],
   "source": []
  },
  {
   "cell_type": "code",
   "execution_count": null,
   "id": "2b0deaca",
   "metadata": {},
   "outputs": [],
   "source": []
  },
  {
   "cell_type": "code",
   "execution_count": null,
   "id": "013f4166",
   "metadata": {},
   "outputs": [],
   "source": []
  }
 ],
 "metadata": {
  "kernelspec": {
   "display_name": "Python 3 (ipykernel)",
   "language": "python",
   "name": "python3"
  },
  "language_info": {
   "codemirror_mode": {
    "name": "ipython",
    "version": 3
   },
   "file_extension": ".py",
   "mimetype": "text/x-python",
   "name": "python",
   "nbconvert_exporter": "python",
   "pygments_lexer": "ipython3",
   "version": "3.11.0"
  }
 },
 "nbformat": 4,
 "nbformat_minor": 5
}
